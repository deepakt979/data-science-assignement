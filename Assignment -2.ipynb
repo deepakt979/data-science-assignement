{
 "cells": [
  {
   "cell_type": "markdown",
   "id": "aa72c111",
   "metadata": {},
   "source": [
    "# Assignment-2 Solution"
   ]
  },
  {
   "cell_type": "markdown",
   "id": "68ddd5c8",
   "metadata": {},
   "source": [
    " 1.What are the two values of the boolean data types? how do you write them ?"
   ]
  },
  {
   "cell_type": "markdown",
   "id": "2a4e4d17",
   "metadata": {},
   "source": [
    "Ans.True and False are two values of the boolen data types. We have to use capital T and F and with the rest of the word in lowercase"
   ]
  },
  {
   "cell_type": "code",
   "execution_count": 1,
   "id": "36bd54bc",
   "metadata": {},
   "outputs": [
    {
     "name": "stdout",
     "output_type": "stream",
     "text": [
      "True <class 'bool'>\n",
      "False <class 'bool'>\n"
     ]
    }
   ],
   "source": [
    "a=True\n",
    "b=False\n",
    "print(a,type(a))\n",
    "print(b,type(b))"
   ]
  },
  {
   "cell_type": "markdown",
   "id": "c54f4da2",
   "metadata": {},
   "source": [
    "2. What are the three different types of Boolean operators?"
   ]
  },
  {
   "cell_type": "markdown",
   "id": "c95357ec",
   "metadata": {},
   "source": [
    "Ans.The three different types of Boolean operators :- and ,or ,not."
   ]
  },
  {
   "cell_type": "code",
   "execution_count": 7,
   "id": "2e7b57ce",
   "metadata": {},
   "outputs": [
    {
     "name": "stdout",
     "output_type": "stream",
     "text": [
      "True\n",
      "True\n",
      "False\n"
     ]
    }
   ],
   "source": [
    "a=200\n",
    "b=300\n",
    "print(a<300 and b<400)\n",
    "print(a<300 or b<400)\n",
    "print(not(a<330))\n"
   ]
  },
  {
   "cell_type": "markdown",
   "id": "999c7419",
   "metadata": {},
   "source": [
    "3. Make a list of each Boolean operator's truth tables (i.e. every possible combination of Boolean values for the operator and what it evaluate) ?"
   ]
  },
  {
   "cell_type": "markdown",
   "id": "4c559144",
   "metadata": {},
   "source": [
    "Ans: The Truth tables for the boolean tables are as follows:\n",
    "\n",
    "1)Truth Table for and operaotor:-\n",
    "(i)True and True is True\n",
    "\n",
    "(ii)True and False is False\n",
    "\n",
    "(iii)False and True is False\n",
    "\n",
    "(iv)False and False is False\n",
    "\n",
    "2)Truth Table for or operaotor:-\n",
    "\n",
    "(i)True and True is True\n",
    "\n",
    "(ii)True and False is True\n",
    "\n",
    "(iii)False and True is True\n",
    "\n",
    "(iv)False and False is False\n",
    "\n",
    "3)Truth Table for not operaotor:-\n",
    "\n",
    "(i)True not is False \n",
    "\n",
    "(ii)False not is True\n"
   ]
  },
  {
   "cell_type": "markdown",
   "id": "72d33d4a",
   "metadata": {},
   "source": [
    "4. What are the values of the following expressions ?\n",
    "(i) (5 > 4) and (3 == 5)\n",
    "(ii) not (5 > 4)\n",
    "(iii) (5 > 4) or (3 == 5)\n",
    "(iv) not ((5 > 4) or (3 == 5))\n",
    "(v) (True and True) and (True == False)\n",
    "(vi) (not False) or (not True)"
   ]
  },
  {
   "cell_type": "code",
   "execution_count": 8,
   "id": "8f24866b",
   "metadata": {},
   "outputs": [
    {
     "name": "stdout",
     "output_type": "stream",
     "text": [
      "False\n",
      "False\n",
      "True\n",
      "False\n",
      "False\n",
      "True\n"
     ]
    }
   ],
   "source": [
    "print((5>4)and(3==5))\n",
    "print(not(5>4)) \n",
    "print((5>4)or(3==5)) \n",
    "print(not((5>4)or(3==5))) \n",
    "print((True and True)and(True==False))\n",
    "print((not False)or(not True)) "
   ]
  },
  {
   "cell_type": "markdown",
   "id": "6a130beb",
   "metadata": {},
   "source": [
    "5. What are the six comparison operators?"
   ]
  },
  {
   "cell_type": "markdown",
   "id": "5d7b4060",
   "metadata": {},
   "source": [
    "Ans. The Six comparision operators available in python are:\n",
    "== , != , < , > , <= , =>"
   ]
  },
  {
   "cell_type": "markdown",
   "id": "83685cd8",
   "metadata": {},
   "source": [
    "6. How do you tell the difference between the equal to and assignment operators?Describe a condition and when you would use one ?"
   ]
  },
  {
   "cell_type": "markdown",
   "id": "07c5a923",
   "metadata": {},
   "source": [
    "Ans:-the difference between the equal to and assignment operators:- == is the equal to operator that compares two values and evaluates to a Boolean, while = is that assignment operator that stores a value in a variable."
   ]
  },
  {
   "cell_type": "code",
   "execution_count": 9,
   "id": "d1304603",
   "metadata": {},
   "outputs": [
    {
     "name": "stdout",
     "output_type": "stream",
     "text": [
      "True\n"
     ]
    }
   ],
   "source": [
    "a=9 # Assigning operator that stores 9 value in a variable a\n",
    "if a==9:#comparing values of a varible value and 9\n",
    "    print(a==9)  "
   ]
  },
  {
   "cell_type": "markdown",
   "id": "4423a3ab",
   "metadata": {},
   "source": [
    "7. Identify the three blocks in this code:\n",
    "spam = 0\n",
    "if spam == 10:\n",
    "print('eggs')\n",
    "if spam > 5:\n",
    "print('bacon')\n",
    "else:\n",
    "print('ham')\n",
    "print('spam')\n",
    "print('spam')"
   ]
  },
  {
   "cell_type": "markdown",
   "id": "62d09144",
   "metadata": {},
   "source": [
    "Ans: In Python, code block refers to a collection of code that is in the same block or indent. This is most commonly found in classes, functions, and loops."
   ]
  },
  {
   "cell_type": "code",
   "execution_count": 10,
   "id": "d381983d",
   "metadata": {},
   "outputs": [
    {
     "name": "stdout",
     "output_type": "stream",
     "text": [
      "ham\n",
      "spam\n",
      "spam\n"
     ]
    }
   ],
   "source": [
    "spam = 0  \n",
    "if spam == 10:  \n",
    "    print('eggs')  # block #1\n",
    "if spam > 5:  \n",
    "    print('bacon')  # block #2\n",
    "else:  \n",
    "    print('ham')  # block #3\n",
    "print('spam')  \n",
    "print('spam')"
   ]
  },
  {
   "cell_type": "markdown",
   "id": "d8f6606d",
   "metadata": {},
   "source": [
    "8. Write code that prints Hello if 1 is stored in spam, prints Howdy if 2 is stored in spam, and prints Greetings! if anything else is stored in spam."
   ]
  },
  {
   "cell_type": "code",
   "execution_count": 11,
   "id": "8a5ec037",
   "metadata": {},
   "outputs": [
    {
     "name": "stdout",
     "output_type": "stream",
     "text": [
      "Hello\n",
      "Howdy\n",
      "Greetings\n"
     ]
    }
   ],
   "source": [
    "def spamCode(spam):\n",
    "    if spam==1:\n",
    "        print('Hello')\n",
    "    elif spam==2:\n",
    "        print('Howdy')\n",
    "    else:\n",
    "        print('Greetings')\n",
    "        \n",
    "spamCode(1) \n",
    "spamCode(2)\n",
    "spamCode(3)"
   ]
  },
  {
   "cell_type": "markdown",
   "id": "5c60c0c7",
   "metadata": {},
   "source": [
    "9.If your programme is stuck in an endless loop, what keys you’ll press?"
   ]
  },
  {
   "cell_type": "markdown",
   "id": "3fd1bc0e",
   "metadata": {},
   "source": [
    "Ans: Press Ctrl-c to stop a program stuck in an infinite loop"
   ]
  },
  {
   "cell_type": "markdown",
   "id": "94dc9f09",
   "metadata": {},
   "source": [
    "10. How can you tell the difference between break and continue?"
   ]
  },
  {
   "cell_type": "markdown",
   "id": "e11d90a4",
   "metadata": {},
   "source": [
    "Ans: The break statement will move the execution outside the loop if break condtion is satisfied. Whereas the continue statement will move the execution to the start of the loop"
   ]
  },
  {
   "cell_type": "markdown",
   "id": "a761ad08",
   "metadata": {},
   "source": [
    "11. In a for loop, what is the difference between range(10), range(0, 10), and range(0, 10, 1)?"
   ]
  },
  {
   "cell_type": "markdown",
   "id": "83ea6155",
   "metadata": {},
   "source": [
    "#Ans: The Differences are as follows:\n",
    "\n",
    "range(10) #call range from 0 to 9 (but not include 10\n",
    "\n",
    "range(0,10) #explicitly tells the loop to start at 0\n",
    "\n",
    "range(0,10,1) #explicitly tells the loop to increase the variable by 1 on each iteration\n"
   ]
  },
  {
   "cell_type": "markdown",
   "id": "81681276",
   "metadata": {},
   "source": [
    "12. Write a short program that prints the numbers 1 to 10 using a for loop. Then write an equivalent program that prints the numbers 1 to 10 using a while loop ?"
   ]
  },
  {
   "cell_type": "code",
   "execution_count": 32,
   "id": "94f46fd1",
   "metadata": {},
   "outputs": [
    {
     "name": "stdout",
     "output_type": "stream",
     "text": [
      "********** using for loop **********\n",
      "1 2 3 4 5 6 7 8 9 10 \n",
      "********** using while loop **********\n",
      "1 2 3 4 5 6 7 8 9 10 "
     ]
    }
   ],
   "source": [
    "print(\"*\"*10,\"using for loop\",\"*\"*10)\n",
    "i=1\n",
    "for i in range (1,11):\n",
    "    #count=count+1\n",
    "    print(i,end=\" \")\n",
    "print()\n",
    "print(\"*\"*10,\"using while loop\",\"*\"*10)\n",
    "i=1\n",
    "while i<11:\n",
    "    print(i,end=\" \")\n",
    "    i+=1\n",
    "\n",
    "\n"
   ]
  },
  {
   "cell_type": "markdown",
   "id": "a3709b8d",
   "metadata": {},
   "source": [
    "13. If you had a function named bacon() inside a module named spam, how would you call it after importing spam ?\n"
   ]
  },
  {
   "cell_type": "markdown",
   "id": "4a19b7e2",
   "metadata": {},
   "source": [
    "Ans: This function can be called with spam.bacon()"
   ]
  },
  {
   "cell_type": "code",
   "execution_count": null,
   "id": "bed1c42d",
   "metadata": {},
   "outputs": [],
   "source": []
  }
 ],
 "metadata": {
  "kernelspec": {
   "display_name": "Python 3 (ipykernel)",
   "language": "python",
   "name": "python3"
  },
  "language_info": {
   "codemirror_mode": {
    "name": "ipython",
    "version": 3
   },
   "file_extension": ".py",
   "mimetype": "text/x-python",
   "name": "python",
   "nbconvert_exporter": "python",
   "pygments_lexer": "ipython3",
   "version": "3.7.6"
  }
 },
 "nbformat": 4,
 "nbformat_minor": 5
}
