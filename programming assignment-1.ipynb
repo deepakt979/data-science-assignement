{
 "cells": [
  {
   "cell_type": "markdown",
   "id": "b08f1734",
   "metadata": {},
   "source": [
    "# Assignment-1"
   ]
  },
  {
   "cell_type": "markdown",
   "id": "63bed999",
   "metadata": {},
   "source": [
    "Question no:-1"
   ]
  },
  {
   "cell_type": "markdown",
   "id": "4e915a79",
   "metadata": {},
   "source": [
    "Write a Python program to print \"Hello Python\"?"
   ]
  },
  {
   "cell_type": "code",
   "execution_count": 4,
   "id": "09244420",
   "metadata": {},
   "outputs": [
    {
     "name": "stdout",
     "output_type": "stream",
     "text": [
      "Hello Python\n"
     ]
    }
   ],
   "source": [
    "#Ans:-\n",
    "print(\"Hello Python\")"
   ]
  },
  {
   "cell_type": "markdown",
   "id": "b5f1f369",
   "metadata": {},
   "source": [
    "Question no:-2"
   ]
  },
  {
   "cell_type": "markdown",
   "id": "e1c7d0b1",
   "metadata": {},
   "source": [
    "Write a Python program to do arithmetical operations addition and division.?"
   ]
  },
  {
   "cell_type": "code",
   "execution_count": 6,
   "id": "14ece53f",
   "metadata": {},
   "outputs": [
    {
     "name": "stdout",
     "output_type": "stream",
     "text": [
      "48\n",
      "5.0\n"
     ]
    }
   ],
   "source": [
    "a=8\n",
    "b=40\n",
    "#arithmetical operations addition\n",
    "addition = a+b\n",
    "print(addition)\n",
    "#arithmetical operations division\n",
    "\n",
    "division = b/a\n",
    "print(division)\n",
    "\n",
    "\n"
   ]
  },
  {
   "cell_type": "markdown",
   "id": "f53f0167",
   "metadata": {},
   "source": [
    "Question no:-03\n"
   ]
  },
  {
   "cell_type": "markdown",
   "id": "ea264a03",
   "metadata": {},
   "source": [
    "Write a Python program to find the area of a triangle?"
   ]
  },
  {
   "cell_type": "code",
   "execution_count": 7,
   "id": "6124aa30",
   "metadata": {},
   "outputs": [
    {
     "name": "stdout",
     "output_type": "stream",
     "text": [
      "enter the radius :-5\n",
      "78.5\n"
     ]
    }
   ],
   "source": [
    "r=int(input(\"enter the radius :-\"))\n",
    "area_triangle=3.14*r**2\n",
    "print(area_triangle)"
   ]
  },
  {
   "cell_type": "markdown",
   "id": "fa67d338",
   "metadata": {},
   "source": [
    "Question no:-04\n"
   ]
  },
  {
   "cell_type": "markdown",
   "id": "83ca1311",
   "metadata": {},
   "source": [
    "Write a Python program to swap two variables?"
   ]
  },
  {
   "cell_type": "code",
   "execution_count": 8,
   "id": "3ceb6434",
   "metadata": {},
   "outputs": [
    {
     "name": "stdout",
     "output_type": "stream",
     "text": [
      "x= 20\n",
      "y= 10\n"
     ]
    }
   ],
   "source": [
    "x=10\n",
    "y=20\n",
    "\n",
    "# swap two variable\n",
    "x,y=y,x\n",
    "\n",
    "print(\"x=\",x)\n",
    "print(\"y=\",y)"
   ]
  },
  {
   "cell_type": "markdown",
   "id": "39734127",
   "metadata": {},
   "source": [
    "Question no:-05"
   ]
  },
  {
   "cell_type": "markdown",
   "id": "7e45b182",
   "metadata": {},
   "source": [
    "Write a Python program to generate a random number?"
   ]
  },
  {
   "cell_type": "code",
   "execution_count": 10,
   "id": "f472490e",
   "metadata": {},
   "outputs": [
    {
     "name": "stdout",
     "output_type": "stream",
     "text": [
      "8\n"
     ]
    }
   ],
   "source": [
    "# generate a random number\n",
    "import random\n",
    "print(random.randint(0,9))"
   ]
  },
  {
   "cell_type": "code",
   "execution_count": null,
   "id": "7e4ea979",
   "metadata": {},
   "outputs": [],
   "source": []
  }
 ],
 "metadata": {
  "kernelspec": {
   "display_name": "Python 3 (ipykernel)",
   "language": "python",
   "name": "python3"
  },
  "language_info": {
   "codemirror_mode": {
    "name": "ipython",
    "version": 3
   },
   "file_extension": ".py",
   "mimetype": "text/x-python",
   "name": "python",
   "nbconvert_exporter": "python",
   "pygments_lexer": "ipython3",
   "version": "3.7.6"
  }
 },
 "nbformat": 4,
 "nbformat_minor": 5
}
