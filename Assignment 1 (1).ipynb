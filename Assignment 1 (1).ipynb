{
 "cells": [
  {
   "cell_type": "markdown",
   "id": "f93b3ef4",
   "metadata": {},
   "source": [
    "# Assignment 1\n"
   ]
  },
  {
   "cell_type": "markdown",
   "id": "fbb3725b",
   "metadata": {},
   "source": [
    "# Question 1\n",
    "\n",
    "In the below elements which of them are values or an expression? eg:- values can be\n",
    "integer or string and expressions will be mathematical operators.\n",
    "\n",
    "Ans:-1) *       :- Multiplication mathematical expression\n",
    "     \n",
    "     2) 'hello' :- String value\n",
    "    \n",
    "     3) -87.8   :- Minus (-) mathematical expression with float value(87.8)\n",
    "    \n",
    "     4) -       :- Minus  mathematical expression\n",
    "     \n",
    "     5) /       :- Divison  mathematical expression\n",
    "     \n",
    "     6) +       :- Plus  mathematical expression\n",
    "     \n",
    "     7) 6       :- Integer value"
   ]
  },
  {
   "cell_type": "markdown",
   "id": "faa43e01",
   "metadata": {},
   "source": [
    "# Question 2 \n",
    "\n",
    "What is the difference between string and variable?\n",
    "\n",
    "Ans:-String\n",
    " 1) string is a data type in python.string is a sequence of characters enclosed in quotes.\n",
    " 2) we can primarily , write a string in these three ways:-\n",
    "    i) single quoted strings :- a = 'rahul'\n",
    "    ii) Doule quoted strings :- a = \"rahul\"\n",
    "    iii) Triple quoted strings :- a = '''rahul'''\n",
    " 3)  Python is concerned, anything you assign to a variable using quotes (single or double) will be considered as a string.\n",
    " 4) example:- So, in the below example, (a+b) returns 5070 in the first case (string concatenation of 50 and 70), whereas in the second case, it returns 120 since it interprets a and b as integers at run-time."
   ]
  },
  {
   "cell_type": "code",
   "execution_count": 1,
   "id": "2aea799d",
   "metadata": {},
   "outputs": [
    {
     "name": "stdout",
     "output_type": "stream",
     "text": [
      "5070\n",
      "120\n"
     ]
    }
   ],
   "source": [
    "a = \"50\" \n",
    "b = \"70\" \n",
    "print(a+b)  #prints 5070 \n",
    " \n",
    "a = 50 \n",
    "b = 70 \n",
    "print(a+b)  #prints 120 \n"
   ]
  },
  {
   "cell_type": "markdown",
   "id": "120f4a56",
   "metadata": {},
   "source": [
    "Variable\n",
    "1)variable as an identifier (or some kind of means) to store a value in a memory location and to manipulate it if needed.\n",
    "2) example:-So, in the below example, we can say that y is a variable that stores the value 50. Interestingly, in Python, there is no specific command to declare a variable. Therefore, a variable is created when you first assign a value to it in your program. Thus, in the below program, the variable y is created when you assign the value 50 to it, meaning that a memory address is allocated to store the value 50. Later, when you re-assign using y = 70, the value in the corresponding memory address will be changed to 70. Thus, you can think of variable as an identifier to play around with a value that is created and stored in a memory location. A variable can be of several types like integer, string, float, etc. based on the value you assign to it."
   ]
  },
  {
   "cell_type": "code",
   "execution_count": 3,
   "id": "e128ff09",
   "metadata": {},
   "outputs": [
    {
     "name": "stdout",
     "output_type": "stream",
     "text": [
      "50\n",
      "70\n",
      "ram\n",
      "rahul\n"
     ]
    }
   ],
   "source": [
    "y=50\n",
    "print(y)\n",
    "y=70\n",
    "print(y)\n",
    "\n",
    "b='ram'\n",
    "print(b)\n",
    "b='rahul'\n",
    "print(b)"
   ]
  },
  {
   "cell_type": "markdown",
   "id": "6745aca7",
   "metadata": {},
   "source": [
    "# Question 3 \n",
    "\n",
    "Describe three different data types.\n",
    "\n",
    "Ans:-List: the list is used for storing multiple data items in a single variable.\n",
    "\n",
    "Integer: integer can store only numerical values.\n",
    "\n",
    "Float: float can store only floating values such as 233.33, 22.2, etc."
   ]
  },
  {
   "cell_type": "markdown",
   "id": "6fa9ed0d",
   "metadata": {},
   "source": [
    "# Question 4 \n",
    "\n",
    "What is an expression made up of? What do all expressions do?\n",
    "\n",
    "Ans:-Expression: An expression is a combination of operators, constants and variables. An expression may consist of one or more operands, and zero or more operators to produce a value and expressions are used to evaluate the values or represent the result on the screen.\n",
    "example:-a+b\n",
    "c\n",
    "s-1/7*f\n",
    ".\n",
    ".\n",
    "etc "
   ]
  },
  {
   "cell_type": "markdown",
   "id": "eca4c8eb",
   "metadata": {},
   "source": [
    "# Question 5 \n",
    "\n",
    "This assignment statements, like spam = 10. What is the difference between an\n",
    "expression and a statement?\n",
    "\n",
    "Ans:-Expression is made up of values, containers, and mathematical operators (operands) \n",
    "                                    and\n",
    "the statement is just like a command that a python interpreter executes like print."
   ]
  },
  {
   "cell_type": "markdown",
   "id": "81e3a22a",
   "metadata": {},
   "source": [
    "# Question 6\n",
    "\n",
    "After running the following code, what does the variable bacon contain?\n",
    "\n",
    "Ans:- It gives result 23 when exceuted the code.\n"
   ]
  },
  {
   "cell_type": "code",
   "execution_count": 5,
   "id": "b74dd28b",
   "metadata": {},
   "outputs": [],
   "source": [
    "bacon = 22\n"
   ]
  },
  {
   "cell_type": "code",
   "execution_count": 6,
   "id": "8a5aefd5",
   "metadata": {},
   "outputs": [
    {
     "data": {
      "text/plain": [
       "23"
      ]
     },
     "execution_count": 6,
     "metadata": {},
     "output_type": "execute_result"
    }
   ],
   "source": [
    "bacon + 1"
   ]
  },
  {
   "cell_type": "markdown",
   "id": "4359304d",
   "metadata": {},
   "source": [
    "# Question 7 \n",
    "\n",
    "What should the values of the following two terms be?\n",
    "Ans:-The output will be the same.\n",
    "\n"
   ]
  },
  {
   "cell_type": "code",
   "execution_count": 7,
   "id": "4ef2a635",
   "metadata": {},
   "outputs": [
    {
     "data": {
      "text/plain": [
       "'spamspamspam'"
      ]
     },
     "execution_count": 7,
     "metadata": {},
     "output_type": "execute_result"
    }
   ],
   "source": [
    "'spam' + 'spamspam'"
   ]
  },
  {
   "cell_type": "code",
   "execution_count": 8,
   "id": "e5dc4aa4",
   "metadata": {},
   "outputs": [
    {
     "data": {
      "text/plain": [
       "'spamspamspam'"
      ]
     },
     "execution_count": 8,
     "metadata": {},
     "output_type": "execute_result"
    }
   ],
   "source": [
    "'spam' * 3"
   ]
  },
  {
   "cell_type": "markdown",
   "id": "208c9193",
   "metadata": {},
   "source": [
    "# Question 8 \n",
    "\n",
    "Why is eggs a valid variable name while 100 is invalid?"
   ]
  },
  {
   "cell_type": "markdown",
   "id": "f1f35d79",
   "metadata": {},
   "source": [
    "Ans:- because Variable names cannot begin with a number. if  we should begin with, a string-like alphabet name then integer. e100 or eggs100 is valid"
   ]
  },
  {
   "cell_type": "markdown",
   "id": "ea256861",
   "metadata": {},
   "source": [
    "# Question 9 \n",
    "\n",
    "What three functions can be used to get the integer, floating-point number, or string version of a value?\n",
    "\n",
    "Ans:-The int(), float(), and str() functions will evaluate to the integer, floating-point number, and string versions of the value passed to them."
   ]
  },
  {
   "cell_type": "markdown",
   "id": "8391166c",
   "metadata": {},
   "source": [
    "# Question 10 \n",
    "\n",
    "Why does this expression cause an error? How can you fix it?\n"
   ]
  },
  {
   "cell_type": "code",
   "execution_count": 9,
   "id": "fc96f260",
   "metadata": {},
   "outputs": [
    {
     "ename": "TypeError",
     "evalue": "can only concatenate str (not \"int\") to str",
     "output_type": "error",
     "traceback": [
      "\u001b[1;31m---------------------------------------------------------------------------\u001b[0m",
      "\u001b[1;31mTypeError\u001b[0m                                 Traceback (most recent call last)",
      "\u001b[1;32m~\\AppData\\Local\\Temp/ipykernel_9968/2733022945.py\u001b[0m in \u001b[0;36m<module>\u001b[1;34m\u001b[0m\n\u001b[1;32m----> 1\u001b[1;33m \u001b[1;34m'I have eaten'\u001b[0m \u001b[1;33m+\u001b[0m \u001b[1;36m99\u001b[0m \u001b[1;33m+\u001b[0m \u001b[1;34m'burritos'\u001b[0m\u001b[1;33m\u001b[0m\u001b[1;33m\u001b[0m\u001b[0m\n\u001b[0m",
      "\u001b[1;31mTypeError\u001b[0m: can only concatenate str (not \"int\") to str"
     ]
    }
   ],
   "source": [
    "'I have eaten' + 99 + 'burritos'"
   ]
  },
  {
   "cell_type": "markdown",
   "id": "ce209770",
   "metadata": {},
   "source": [
    "Ans :-The expression causes an error because 99 is an integer, and only strings can be concatenated to other strings with the + operator. The correct way is I have eaten ' + str(99) + ' burritos.'."
   ]
  },
  {
   "cell_type": "code",
   "execution_count": 11,
   "id": "807e40bc",
   "metadata": {},
   "outputs": [
    {
     "data": {
      "text/plain": [
       "'I have eaten 99 burritos.'"
      ]
     },
     "execution_count": 11,
     "metadata": {},
     "output_type": "execute_result"
    }
   ],
   "source": [
    " 'I have eaten ' + str(99) + ' burritos.'"
   ]
  },
  {
   "cell_type": "code",
   "execution_count": null,
   "id": "57a3e0d2",
   "metadata": {},
   "outputs": [],
   "source": []
  }
 ],
 "metadata": {
  "kernelspec": {
   "display_name": "Python 3 (ipykernel)",
   "language": "python",
   "name": "python3"
  },
  "language_info": {
   "codemirror_mode": {
    "name": "ipython",
    "version": 3
   },
   "file_extension": ".py",
   "mimetype": "text/x-python",
   "name": "python",
   "nbconvert_exporter": "python",
   "pygments_lexer": "ipython3",
   "version": "3.7.6"
  }
 },
 "nbformat": 4,
 "nbformat_minor": 5
}
